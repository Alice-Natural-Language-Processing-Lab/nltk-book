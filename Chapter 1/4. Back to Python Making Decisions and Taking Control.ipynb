{
 "cells": [
  {
   "cell_type": "markdown",
   "metadata": {},
   "source": [
    "## 4.1 Conditionals"
   ]
  },
  {
   "cell_type": "code",
   "execution_count": 8,
   "metadata": {
    "collapsed": false
   },
   "outputs": [],
   "source": [
    "import nltk\n",
    "\n",
    "f = open('text.txt')\n",
    "raw = f.read()\n",
    "tokens = nltk.word_tokenize(raw)\n",
    "def get_full_text(text):\n",
    "  every_word = [w for w in text]\n",
    "  full_text = nltk.Text(every_word)\n",
    "  return full_text\n",
    "\n",
    "full_text = get_full_text(tokens)"
   ]
  },
  {
   "cell_type": "code",
   "execution_count": 16,
   "metadata": {
    "collapsed": false
   },
   "outputs": [
    {
     "data": {
      "text/plain": [
       "['ConMisHijosNoTeMetas',\n",
       " 'conservadoras',\n",
       " '–reconocimiento',\n",
       " 'confrontación',\n",
       " 'desencuentros',\n",
       " '“superioridad',\n",
       " 'irreconciliable',\n",
       " 'perteneciente',\n",
       " 'antiestablishment',\n",
       " 'exclusivamente',\n",
       " 'especialmente']"
      ]
     },
     "execution_count": 16,
     "metadata": {},
     "output_type": "execute_result"
    }
   ],
   "source": [
    "[w for w in full_text if len(w) > 12]"
   ]
  },
  {
   "cell_type": "code",
   "execution_count": 18,
   "metadata": {
    "collapsed": false
   },
   "outputs": [
    {
     "data": {
      "text/plain": [
       "['directamente',\n",
       " 'siente',\n",
       " 'perteneciente',\n",
       " 'carente',\n",
       " 'exclusivamente',\n",
       " 'especialmente']"
      ]
     },
     "execution_count": 18,
     "metadata": {},
     "output_type": "execute_result"
    }
   ],
   "source": [
    "[w for w in full_text if w.endswith('ente') ]"
   ]
  },
  {
   "cell_type": "code",
   "execution_count": 25,
   "metadata": {
    "collapsed": false
   },
   "outputs": [
    {
     "data": {
      "text/plain": [
       "['–reconocimiento', 'etc.–']"
      ]
     },
     "execution_count": 25,
     "metadata": {},
     "output_type": "execute_result"
    }
   ],
   "source": [
    "[w for w in full_text if '–' in w]"
   ]
  }
 ],
 "metadata": {
  "kernelspec": {
   "display_name": "Python 3",
   "language": "python",
   "name": "python3"
  },
  "language_info": {
   "codemirror_mode": {
    "name": "ipython",
    "version": 3
   },
   "file_extension": ".py",
   "mimetype": "text/x-python",
   "name": "python",
   "nbconvert_exporter": "python",
   "pygments_lexer": "ipython3",
   "version": "3.6.0"
  }
 },
 "nbformat": 4,
 "nbformat_minor": 2
}
